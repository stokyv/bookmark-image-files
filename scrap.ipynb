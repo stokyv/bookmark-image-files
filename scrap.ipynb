{
 "cells": [
  {
   "cell_type": "code",
   "execution_count": 1,
   "metadata": {},
   "outputs": [],
   "source": [
    "import os\n",
    "import zipfile"
   ]
  },
  {
   "cell_type": "code",
   "execution_count": 3,
   "metadata": {},
   "outputs": [],
   "source": [
    "def extract_zip(zip_path):\n",
    "    # Get the directory and filename from the zip path\n",
    "    directory, filename = os.path.split(zip_path)\n",
    "    \n",
    "    # Get the name of the zip without the extension\n",
    "    name, _ = os.path.splitext(filename)\n",
    "    \n",
    "    # Create the output directory with the same name as the zip\n",
    "    # output_dir = os.path.join(directory, name)\n",
    "    output_dir = os.path.join(directory, name)\n",
    "    \n",
    "    # Create the output directory if it doesn't exist\n",
    "    if not os.path.exists(output_dir):\n",
    "        os.makedirs(output_dir)\n",
    "    \n",
    "    # Extract the zip file\n",
    "    with zipfile.ZipFile(zip_path, 'r') as zip_ref:\n",
    "        zip_ref.extractall(output_dir)\n",
    "    \n",
    "    print(f\"ZIP file extracted to: {output_dir}\")\n",
    "\n",
    "# Example usage\n",
    "# extract_zip('/path/to/archive.zip')"
   ]
  },
  {
   "cell_type": "code",
   "execution_count": 4,
   "metadata": {},
   "outputs": [
    {
     "name": "stdout",
     "output_type": "stream",
     "text": [
      "ZIP file extracted to: Asumi-chan Vol. 4\n"
     ]
    }
   ],
   "source": [
    "fpath = r'Asumi-chan Vol. 4.zip'\n",
    "extract_zip(fpath)\n"
   ]
  }
 ],
 "metadata": {
  "kernelspec": {
   "display_name": "env1",
   "language": "python",
   "name": "python3"
  },
  "language_info": {
   "codemirror_mode": {
    "name": "ipython",
    "version": 3
   },
   "file_extension": ".py",
   "mimetype": "text/x-python",
   "name": "python",
   "nbconvert_exporter": "python",
   "pygments_lexer": "ipython3",
   "version": "3.11.5"
  }
 },
 "nbformat": 4,
 "nbformat_minor": 2
}
