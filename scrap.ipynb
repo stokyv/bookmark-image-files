{
 "cells": [
  {
   "cell_type": "code",
   "execution_count": 10,
   "metadata": {},
   "outputs": [],
   "source": [
    "import os\n",
    "import zipfile\n",
    "import os\n",
    "from PIL import Image\n",
    "import os\n",
    "import shutil"
   ]
  },
  {
   "cell_type": "code",
   "execution_count": null,
   "metadata": {},
   "outputs": [],
   "source": [
    "# import json\n",
    "# import os\n",
    "\n",
    "def load_selected_images():\n",
    "    file_path = os.path.join(\"d:\\\\\", \"Downloads\", \"selected_images.json\")\n",
    "    \n",
    "    if os.path.exists(file_path):\n",
    "        with open(file_path, \"r\") as file:\n",
    "            selected_images = json.load(file)\n",
    "        return selected_images\n",
    "    else:\n",
    "        print(f\"File not found: {file_path}\")\n",
    "        return []\n",
    "\n",
    "# Example usage\n",
    "# selected_images_list = load_selected_images()\n",
    "# print(selected_images_list)"
   ]
  },
  {
   "cell_type": "code",
   "execution_count": 29,
   "metadata": {},
   "outputs": [],
   "source": [
    "def extract_zip(zip_path):\n",
    "    # Get the directory and filename from the zip path\n",
    "    directory, filename = os.path.split(zip_path)\n",
    "    \n",
    "    # Get the name of the zip without the extension\n",
    "    name, _ = os.path.splitext(filename)\n",
    "    \n",
    "    # Create the output directory with the same name as the zip\n",
    "    # output_dir = os.path.join(directory, name)\n",
    "    output_dir = os.path.join(directory, name)\n",
    "    \n",
    "    # Create the output directory if it doesn't exist\n",
    "    if not os.path.exists(output_dir):\n",
    "        os.makedirs(output_dir)\n",
    "    \n",
    "    # Extract the zip file\n",
    "    with zipfile.ZipFile(zip_path, 'r') as zip_ref:\n",
    "        zip_ref.extractall(output_dir)\n",
    "    \n",
    "    print(f\"ZIP file extracted to: {output_dir}\")\n",
    "    return output_dir\n",
    "\n",
    "# Example usage\n",
    "# extract_zip('/path/to/archive.zip')"
   ]
  },
  {
   "cell_type": "code",
   "execution_count": 6,
   "metadata": {},
   "outputs": [],
   "source": [
    "def split_chapters(folder_path, bookmarked_images):\n",
    "    #load all image files in folder\n",
    "    image_files = load_all_images(folder_path)\n",
    "\n",
    "    #loop\n",
    "    all_chapters = []\n",
    "    curr_list = []\n",
    "    for item in image_files:\n",
    "        if item in bookmarked_images:\n",
    "            all_chapters.append(curr_list)        \n",
    "            curr_list = [item]\n",
    "        else:\n",
    "            curr_list.append(item)\n",
    "    if curr_list:\n",
    "        all_chapters.append(curr_list)\n",
    "    #return a list of lists\n",
    "    return all_chapters\n"
   ]
  },
  {
   "cell_type": "code",
   "execution_count": 7,
   "metadata": {},
   "outputs": [],
   "source": [
    "import os\n",
    "from PIL import Image\n",
    "\n",
    "def load_all_images(folder_path):\n",
    "    file_list = os.listdir(folder_path)\n",
    "\n",
    "    # Filter out only the image files\n",
    "    image_files = [f for f in file_list if f.endswith(('.png', '.jpg', '.jpeg', '.gif', '.bmp', '.webp'))]\n",
    "    image_filepaths = [os.path.join(folder_path, f) for f in image_files]\n",
    "\n",
    "    # print(image_filepaths)\n",
    "    return image_filepaths"
   ]
  },
  {
   "cell_type": "code",
   "execution_count": 23,
   "metadata": {},
   "outputs": [],
   "source": [
    "def split_chapters(folder_path, bookmarked_images):\n",
    "    #load all image files in folder\n",
    "    image_filepaths = load_all_images(folder_path)\n",
    "\n",
    "    #loop\n",
    "    all_chapters = []\n",
    "    #add first image to current list\n",
    "    curr_list = [image_filepaths[0]]\n",
    "\n",
    "    for item in image_filepaths[1:]:\n",
    "        if item in bookmarked_images:\n",
    "            all_chapters.append(curr_list)        \n",
    "            curr_list = [item]\n",
    "        else:\n",
    "            curr_list.append(item)\n",
    "    if curr_list:\n",
    "        all_chapters.append(curr_list)\n",
    "    #return a list of lists\n",
    "    return all_chapters"
   ]
  },
  {
   "cell_type": "code",
   "execution_count": 15,
   "metadata": {},
   "outputs": [],
   "source": [
    "def create_new_folder(image_folder, new_folder_name):\n",
    "    # Create a path for the new folder\n",
    "    new_folder_path = os.path.join(os.getcwd(), image_folder, new_folder_name) \n",
    "    os.mkdir(new_folder_path)\n",
    "    print(f\"Folder '{new_folder_name}' created successfully.\")\n",
    "    return new_folder_path"
   ]
  },
  {
   "cell_type": "code",
   "execution_count": 16,
   "metadata": {},
   "outputs": [],
   "source": [
    "def move_files(file_list, dest_folder):\n",
    "    # make sure file_list is a list of relative file paths in the image folder\n",
    "    # make sure dest_folder already exists in image_foldre\n",
    "    # Define the list of filenames to move\n",
    "    # filenames = [\"file1.txt\", \"file2.txt\", \"file3.txt\"]  # Example list of filenames\n",
    "\n",
    "    # Define the destination folder\n",
    "    # dest_folder = \"f1\"\n",
    "\n",
    "    # Move each file to the destination folder\n",
    "    for filename in file_list:\n",
    "        # Check if the file exists\n",
    "        if os.path.exists(filename):\n",
    "            # Move the file to the destination folder\n",
    "            shutil.move(filename, dest_folder)\n",
    "            print(f\"Moved '{filename}' to '{dest_folder}'\")\n",
    "        else:\n",
    "            print(f\"File '{filename}' does not exist.\")"
   ]
  },
  {
   "cell_type": "code",
   "execution_count": 17,
   "metadata": {},
   "outputs": [
    {
     "data": {
      "text/plain": [
       "['ch26\\\\003.jpg', 'ch26\\\\004.jpg']"
      ]
     },
     "execution_count": 17,
     "metadata": {},
     "output_type": "execute_result"
    }
   ],
   "source": [
    "def convert_to_relative_filepaths(image_folder, file_list):\n",
    "    for i in range(len(file_list)):\n",
    "        item = file_list[i]\n",
    "        if os.path.basename(item) == item:\n",
    "            relative_filepath = os.path.join(image_folder, item)\n",
    "            file_list[i] = relative_filepath\n",
    "    return file_list\n",
    "\n",
    "# im = ['003.jpg', '004.jpg']\n",
    "# convert_to_relative_filepaths('ch26', im)"
   ]
  },
  {
   "cell_type": "code",
   "execution_count": 2,
   "metadata": {},
   "outputs": [
    {
     "name": "stdout",
     "output_type": "stream",
     "text": [
      "Existing files in 'images1' moved to 'images1 copy'.\n",
      "Files from 'images' moved to 'images1'.\n"
     ]
    }
   ],
   "source": [
    "import os\n",
    "import shutil\n",
    "\n",
    "\n",
    "# Set the paths for the source and destination folders\n",
    "source_folder = \"images\"\n",
    "dest_folder = \"images1\"\n",
    "dest_folder_copy = \"images1 copy\"\n",
    "\n",
    "# Get the current working directory\n",
    "cwd = os.getcwd()\n",
    "\n",
    "# Construct the full paths for the folders\n",
    "source_folder_path = os.path.join(cwd, source_folder)\n",
    "dest_folder_path = os.path.join(cwd, dest_folder)\n",
    "dest_folder_copy_path = os.path.join(cwd, dest_folder_copy)\n",
    "\n",
    "# Check if the source folder exists\n",
    "if not os.path.exists(source_folder_path):\n",
    "    print(f\"Source folder '{source_folder}' does not exist.\")\n",
    "    exit()\n",
    "\n",
    "# Check if the destination folder exists\n",
    "if not os.path.exists(dest_folder_path):\n",
    "    os.makedirs(dest_folder_path)\n",
    "\n",
    "# Check if there are files in the destination folder\n",
    "existing_files = os.listdir(dest_folder_path)\n",
    "if existing_files:\n",
    "    # Create the \"images copy\" folder if it doesn't exist\n",
    "    if not os.path.exists(dest_folder_copy_path):\n",
    "        os.makedirs(dest_folder_copy_path)\n",
    "\n",
    "    # Move existing files from \"images\" to \"images copy\"\n",
    "    for file_name in existing_files:\n",
    "        source_file_path = os.path.join(dest_folder_path, file_name)\n",
    "        dest_file_path = os.path.join(dest_folder_copy_path, file_name)\n",
    "        shutil.move(source_file_path, dest_file_path)\n",
    "    print(f\"Existing files in '{dest_folder}' moved to '{dest_folder_copy}'.\")\n",
    "\n",
    "# Move files from \"f1\" to \"images\"\n",
    "for file_name in os.listdir(source_folder_path):\n",
    "    source_file_path = os.path.join(source_folder_path, file_name)\n",
    "    dest_file_path = os.path.join(dest_folder_path, file_name)\n",
    "    shutil.move(source_file_path, dest_file_path)\n",
    "\n",
    "print(f\"Files from '{source_folder}' moved to '{dest_folder}'.\")"
   ]
  },
  {
   "cell_type": "markdown",
   "metadata": {},
   "source": [
    "## ONE RUN BELOW"
   ]
  },
  {
   "cell_type": "code",
   "execution_count": 12,
   "metadata": {},
   "outputs": [],
   "source": [
    "#extract zip file\n",
    "fpath = r'ch26.zip'\n",
    "image_folder = extract_zip(fpath)"
   ]
  },
  {
   "cell_type": "code",
   "execution_count": 13,
   "metadata": {},
   "outputs": [
    {
     "name": "stdout",
     "output_type": "stream",
     "text": [
      "['001.jpg', '002.jpg', '033.jpg', '036.jpg']\n"
     ]
    }
   ],
   "source": [
    "#load json file downloaded from browser\n",
    "selected_images_list = load_selected_images()\n",
    "print(selected_images_list)"
   ]
  },
  {
   "cell_type": "code",
   "execution_count": 25,
   "metadata": {},
   "outputs": [
    {
     "data": {
      "text/plain": [
       "['ch26\\\\001.jpg', 'ch26\\\\002.jpg', 'ch26\\\\033.jpg', 'ch26\\\\036.jpg']"
      ]
     },
     "execution_count": 25,
     "metadata": {},
     "output_type": "execute_result"
    }
   ],
   "source": [
    "#format this list into relative paths\n",
    "# load_all_images('ch26')\n",
    "bookmarked_images = ['004.jpg', '024.jpg']\n",
    "bookmarked_images = selected_images_list\n",
    "convert_to_relative_filepaths('ch26', bookmarked_images)\n",
    "bookmarked_images"
   ]
  },
  {
   "cell_type": "code",
   "execution_count": 26,
   "metadata": {},
   "outputs": [
    {
     "name": "stdout",
     "output_type": "stream",
     "text": [
      "['ch26\\\\001.jpg', 'ch26\\\\002.jpg', 'ch26\\\\003.jpg', 'ch26\\\\004.jpg', 'ch26\\\\005.jpg', 'ch26\\\\006.jpg', 'ch26\\\\007.jpg', 'ch26\\\\008.jpg', 'ch26\\\\009.jpg', 'ch26\\\\010.jpg', 'ch26\\\\011.jpg', 'ch26\\\\012.jpg', 'ch26\\\\013.jpg', 'ch26\\\\014.jpg', 'ch26\\\\015.jpg', 'ch26\\\\016.jpg', 'ch26\\\\017.jpg', 'ch26\\\\018.jpg', 'ch26\\\\019.jpg', 'ch26\\\\020.jpg', 'ch26\\\\021.jpg', 'ch26\\\\022.jpg', 'ch26\\\\023.jpg', 'ch26\\\\024.jpg', 'ch26\\\\025.jpg', 'ch26\\\\026.jpg', 'ch26\\\\027.jpg', 'ch26\\\\028.jpg', 'ch26\\\\029.jpg', 'ch26\\\\030.jpg', 'ch26\\\\031.jpg', 'ch26\\\\032.jpg', 'ch26\\\\033.jpg', 'ch26\\\\034.jpg', 'ch26\\\\035.jpg', 'ch26\\\\036.jpg']\n"
     ]
    }
   ],
   "source": [
    "chapters = split_chapters('ch26', bookmarked_images)\n",
    "# chapters"
   ]
  },
  {
   "cell_type": "code",
   "execution_count": null,
   "metadata": {},
   "outputs": [],
   "source": [
    "chapters"
   ]
  },
  {
   "cell_type": "code",
   "execution_count": 28,
   "metadata": {},
   "outputs": [
    {
     "name": "stdout",
     "output_type": "stream",
     "text": [
      "Folder 'ch26-story-0' created successfully.\n",
      "Moved 'ch26\\001.jpg' to 'c:\\Users\\Glaucos\\bookmark-image-files\\ch26\\ch26-story-0'\n",
      "Folder 'ch26-story-1' created successfully.\n",
      "Moved 'ch26\\002.jpg' to 'c:\\Users\\Glaucos\\bookmark-image-files\\ch26\\ch26-story-1'\n",
      "Moved 'ch26\\003.jpg' to 'c:\\Users\\Glaucos\\bookmark-image-files\\ch26\\ch26-story-1'\n",
      "Moved 'ch26\\004.jpg' to 'c:\\Users\\Glaucos\\bookmark-image-files\\ch26\\ch26-story-1'\n",
      "Moved 'ch26\\005.jpg' to 'c:\\Users\\Glaucos\\bookmark-image-files\\ch26\\ch26-story-1'\n",
      "Moved 'ch26\\006.jpg' to 'c:\\Users\\Glaucos\\bookmark-image-files\\ch26\\ch26-story-1'\n",
      "Moved 'ch26\\007.jpg' to 'c:\\Users\\Glaucos\\bookmark-image-files\\ch26\\ch26-story-1'\n",
      "Moved 'ch26\\008.jpg' to 'c:\\Users\\Glaucos\\bookmark-image-files\\ch26\\ch26-story-1'\n",
      "Moved 'ch26\\009.jpg' to 'c:\\Users\\Glaucos\\bookmark-image-files\\ch26\\ch26-story-1'\n",
      "Moved 'ch26\\010.jpg' to 'c:\\Users\\Glaucos\\bookmark-image-files\\ch26\\ch26-story-1'\n",
      "Moved 'ch26\\011.jpg' to 'c:\\Users\\Glaucos\\bookmark-image-files\\ch26\\ch26-story-1'\n",
      "Moved 'ch26\\012.jpg' to 'c:\\Users\\Glaucos\\bookmark-image-files\\ch26\\ch26-story-1'\n",
      "Moved 'ch26\\013.jpg' to 'c:\\Users\\Glaucos\\bookmark-image-files\\ch26\\ch26-story-1'\n",
      "Moved 'ch26\\014.jpg' to 'c:\\Users\\Glaucos\\bookmark-image-files\\ch26\\ch26-story-1'\n",
      "Moved 'ch26\\015.jpg' to 'c:\\Users\\Glaucos\\bookmark-image-files\\ch26\\ch26-story-1'\n",
      "Moved 'ch26\\016.jpg' to 'c:\\Users\\Glaucos\\bookmark-image-files\\ch26\\ch26-story-1'\n",
      "Moved 'ch26\\017.jpg' to 'c:\\Users\\Glaucos\\bookmark-image-files\\ch26\\ch26-story-1'\n",
      "Moved 'ch26\\018.jpg' to 'c:\\Users\\Glaucos\\bookmark-image-files\\ch26\\ch26-story-1'\n",
      "Moved 'ch26\\019.jpg' to 'c:\\Users\\Glaucos\\bookmark-image-files\\ch26\\ch26-story-1'\n",
      "Moved 'ch26\\020.jpg' to 'c:\\Users\\Glaucos\\bookmark-image-files\\ch26\\ch26-story-1'\n",
      "Moved 'ch26\\021.jpg' to 'c:\\Users\\Glaucos\\bookmark-image-files\\ch26\\ch26-story-1'\n",
      "Moved 'ch26\\022.jpg' to 'c:\\Users\\Glaucos\\bookmark-image-files\\ch26\\ch26-story-1'\n",
      "Moved 'ch26\\023.jpg' to 'c:\\Users\\Glaucos\\bookmark-image-files\\ch26\\ch26-story-1'\n",
      "Moved 'ch26\\024.jpg' to 'c:\\Users\\Glaucos\\bookmark-image-files\\ch26\\ch26-story-1'\n",
      "Moved 'ch26\\025.jpg' to 'c:\\Users\\Glaucos\\bookmark-image-files\\ch26\\ch26-story-1'\n",
      "Moved 'ch26\\026.jpg' to 'c:\\Users\\Glaucos\\bookmark-image-files\\ch26\\ch26-story-1'\n",
      "Moved 'ch26\\027.jpg' to 'c:\\Users\\Glaucos\\bookmark-image-files\\ch26\\ch26-story-1'\n",
      "Moved 'ch26\\028.jpg' to 'c:\\Users\\Glaucos\\bookmark-image-files\\ch26\\ch26-story-1'\n",
      "Moved 'ch26\\029.jpg' to 'c:\\Users\\Glaucos\\bookmark-image-files\\ch26\\ch26-story-1'\n",
      "Moved 'ch26\\030.jpg' to 'c:\\Users\\Glaucos\\bookmark-image-files\\ch26\\ch26-story-1'\n",
      "Moved 'ch26\\031.jpg' to 'c:\\Users\\Glaucos\\bookmark-image-files\\ch26\\ch26-story-1'\n",
      "Moved 'ch26\\032.jpg' to 'c:\\Users\\Glaucos\\bookmark-image-files\\ch26\\ch26-story-1'\n",
      "Folder 'ch26-story-2' created successfully.\n",
      "Moved 'ch26\\033.jpg' to 'c:\\Users\\Glaucos\\bookmark-image-files\\ch26\\ch26-story-2'\n",
      "Moved 'ch26\\034.jpg' to 'c:\\Users\\Glaucos\\bookmark-image-files\\ch26\\ch26-story-2'\n",
      "Moved 'ch26\\035.jpg' to 'c:\\Users\\Glaucos\\bookmark-image-files\\ch26\\ch26-story-2'\n",
      "Folder 'ch26-story-3' created successfully.\n",
      "Moved 'ch26\\036.jpg' to 'c:\\Users\\Glaucos\\bookmark-image-files\\ch26\\ch26-story-3'\n"
     ]
    }
   ],
   "source": [
    "image_folder = 'ch26'\n",
    "\n",
    "chapter_index = 0\n",
    "for chapter in chapters:\n",
    "    #create a new folder for each chapter\n",
    "    chapter_folder = f\"{image_folder}-story-{chapter_index}\"\n",
    "    chapter_index += 1\n",
    "    new_folder_path = create_new_folder(image_folder, chapter_folder)    \n",
    "    #move files into folder\n",
    "    move_files(chapter, new_folder_path)"
   ]
  }
 ],
 "metadata": {
  "kernelspec": {
   "display_name": "env1",
   "language": "python",
   "name": "python3"
  },
  "language_info": {
   "codemirror_mode": {
    "name": "ipython",
    "version": 3
   },
   "file_extension": ".py",
   "mimetype": "text/x-python",
   "name": "python",
   "nbconvert_exporter": "python",
   "pygments_lexer": "ipython3",
   "version": "3.12.0"
  }
 },
 "nbformat": 4,
 "nbformat_minor": 2
}
