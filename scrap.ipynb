{
 "cells": [
  {
   "cell_type": "code",
   "execution_count": 28,
   "metadata": {},
   "outputs": [],
   "source": [
    "import os\n",
    "import zipfile\n",
    "import os\n",
    "from PIL import Image\n",
    "import os\n",
    "import shutil"
   ]
  },
  {
   "cell_type": "code",
   "execution_count": 3,
   "metadata": {},
   "outputs": [],
   "source": [
    "def extract_zip(zip_path):\n",
    "    # Get the directory and filename from the zip path\n",
    "    directory, filename = os.path.split(zip_path)\n",
    "    \n",
    "    # Get the name of the zip without the extension\n",
    "    name, _ = os.path.splitext(filename)\n",
    "    \n",
    "    # Create the output directory with the same name as the zip\n",
    "    # output_dir = os.path.join(directory, name)\n",
    "    output_dir = os.path.join(directory, name)\n",
    "    \n",
    "    # Create the output directory if it doesn't exist\n",
    "    if not os.path.exists(output_dir):\n",
    "        os.makedirs(output_dir)\n",
    "    \n",
    "    # Extract the zip file\n",
    "    with zipfile.ZipFile(zip_path, 'r') as zip_ref:\n",
    "        zip_ref.extractall(output_dir)\n",
    "    \n",
    "    print(f\"ZIP file extracted to: {output_dir}\")\n",
    "\n",
    "# Example usage\n",
    "# extract_zip('/path/to/archive.zip')"
   ]
  },
  {
   "cell_type": "code",
   "execution_count": 4,
   "metadata": {},
   "outputs": [
    {
     "name": "stdout",
     "output_type": "stream",
     "text": [
      "ZIP file extracted to: Asumi-chan Vol. 4\n"
     ]
    }
   ],
   "source": [
    "fpath = r'Asumi-chan Vol. 4.zip'\n",
    "extract_zip(fpath)"
   ]
  },
  {
   "cell_type": "code",
   "execution_count": 15,
   "metadata": {},
   "outputs": [],
   "source": [
    "lst = [1,2,3,4,5,6,7,8,9,10]\n",
    "lst1 = [2,3,4,10]\n",
    "\n",
    "#for loop\n",
    "#iterate thru lst, if item not in selected_images then add to curr_list\n",
    "# if item is in selected_images then add current list to all_chapters.\n",
    "# then start a new list containing this item.\n",
    "# after finishing the loop, add curr_list if it's not empty\n",
    "# all_chapters = []\n",
    "# curr_list = []\n",
    "# for item in lst:\n",
    "#     if item in lst1:\n",
    "#         all_chapters.append(curr_list)        \n",
    "#         curr_list = [item]\n",
    "#     else:\n",
    "#         curr_list.append(item)\n",
    "# if curr_list:\n",
    "#     all_chapters.append(curr_list)\n",
    "\n",
    "\n",
    "def split_chapters(folder_path, bookmarked_images):\n",
    "    #load all image files in folder\n",
    "    image_files = load_all_images(folder_path)\n",
    "\n",
    "    #loop\n",
    "    all_chapters = []\n",
    "    curr_list = []\n",
    "    for item in image_files:\n",
    "        if item in bookmarked_images:\n",
    "            all_chapters.append(curr_list)        \n",
    "            curr_list = [item]\n",
    "        else:\n",
    "            curr_list.append(item)\n",
    "    if curr_list:\n",
    "        all_chapters.append(curr_list)\n",
    "    #return a list of lists\n",
    "    return all_chapters\n",
    "\n",
    "# def create_chapters(folder, chapter_files):\n",
    "#     for chapter in chapter_files:\n",
    "#         #create a folder starting from 0\n",
    "#         #move files into folder\n",
    "#         #print \"done\" when return\n",
    "\n",
    "\n"
   ]
  },
  {
   "cell_type": "code",
   "execution_count": 46,
   "metadata": {},
   "outputs": [],
   "source": [
    "import os\n",
    "from PIL import Image\n",
    "\n",
    "def load_all_images(folder_path):\n",
    "    # Define the directory containing the images\n",
    "    # folder_path = \"images\"\n",
    "\n",
    "    # Get a list of all files in the directory\n",
    "    file_list = os.listdir(folder_path)\n",
    "\n",
    "    # Filter out only the image files\n",
    "    image_files = [f for f in file_list if f.endswith(('.png', '.jpg', '.jpeg', '.gif', '.bmp', '.webp'))]\n",
    "    image_filepaths = [os.path.join(folder_path, f) for f in image_files]\n",
    "    # Load each image\n",
    "    # images = []\n",
    "    # for image_file in image_files:\n",
    "    #     image_path = os.path.join(folder_path, image_file)\n",
    "    #     image = Image.open(image_path)\n",
    "    #     images.append(image)\n",
    "\n",
    "    # Now, you have a list of PIL Image objects in the \"images\" list\n",
    "    print(image_filepaths)\n",
    "    return image_filepaths"
   ]
  },
  {
   "cell_type": "code",
   "execution_count": 47,
   "metadata": {},
   "outputs": [],
   "source": [
    "def split_chapters(folder_path, bookmarked_images):\n",
    "    #load all image files in folder\n",
    "    image_filepaths = load_all_images(folder_path)\n",
    "\n",
    "    #loop\n",
    "    all_chapters = []\n",
    "    curr_list = []\n",
    "    for item in image_filepaths:\n",
    "        if item in bookmarked_images:\n",
    "            all_chapters.append(curr_list)        \n",
    "            curr_list = [item]\n",
    "        else:\n",
    "            curr_list.append(item)\n",
    "    if curr_list:\n",
    "        all_chapters.append(curr_list)\n",
    "    #return a list of lists\n",
    "    return all_chapters"
   ]
  },
  {
   "cell_type": "code",
   "execution_count": 51,
   "metadata": {},
   "outputs": [
    {
     "name": "stdout",
     "output_type": "stream",
     "text": [
      "['ch26\\\\001.jpg', 'ch26\\\\002.jpg', 'ch26\\\\003.jpg', 'ch26\\\\004.jpg', 'ch26\\\\005.jpg', 'ch26\\\\006.jpg', 'ch26\\\\007.jpg', 'ch26\\\\008.jpg', 'ch26\\\\009.jpg', 'ch26\\\\010.jpg', 'ch26\\\\011.jpg', 'ch26\\\\012.jpg', 'ch26\\\\013.jpg', 'ch26\\\\014.jpg', 'ch26\\\\015.jpg', 'ch26\\\\016.jpg', 'ch26\\\\017.jpg', 'ch26\\\\018.jpg', 'ch26\\\\019.jpg', 'ch26\\\\020.jpg', 'ch26\\\\021.jpg', 'ch26\\\\022.jpg', 'ch26\\\\023.jpg', 'ch26\\\\024.jpg', 'ch26\\\\025.jpg', 'ch26\\\\026.jpg', 'ch26\\\\027.jpg', 'ch26\\\\028.jpg', 'ch26\\\\029.jpg', 'ch26\\\\030.jpg', 'ch26\\\\031.jpg', 'ch26\\\\032.jpg', 'ch26\\\\033.jpg', 'ch26\\\\034.jpg', 'ch26\\\\035.jpg', 'ch26\\\\036.jpg']\n"
     ]
    },
    {
     "data": {
      "text/plain": [
       "[['ch26\\\\001.jpg', 'ch26\\\\002.jpg', 'ch26\\\\003.jpg'],\n",
       " ['ch26\\\\004.jpg',\n",
       "  'ch26\\\\005.jpg',\n",
       "  'ch26\\\\006.jpg',\n",
       "  'ch26\\\\007.jpg',\n",
       "  'ch26\\\\008.jpg',\n",
       "  'ch26\\\\009.jpg',\n",
       "  'ch26\\\\010.jpg',\n",
       "  'ch26\\\\011.jpg',\n",
       "  'ch26\\\\012.jpg',\n",
       "  'ch26\\\\013.jpg',\n",
       "  'ch26\\\\014.jpg',\n",
       "  'ch26\\\\015.jpg',\n",
       "  'ch26\\\\016.jpg',\n",
       "  'ch26\\\\017.jpg',\n",
       "  'ch26\\\\018.jpg',\n",
       "  'ch26\\\\019.jpg',\n",
       "  'ch26\\\\020.jpg',\n",
       "  'ch26\\\\021.jpg',\n",
       "  'ch26\\\\022.jpg',\n",
       "  'ch26\\\\023.jpg'],\n",
       " ['ch26\\\\024.jpg',\n",
       "  'ch26\\\\025.jpg',\n",
       "  'ch26\\\\026.jpg',\n",
       "  'ch26\\\\027.jpg',\n",
       "  'ch26\\\\028.jpg',\n",
       "  'ch26\\\\029.jpg',\n",
       "  'ch26\\\\030.jpg',\n",
       "  'ch26\\\\031.jpg',\n",
       "  'ch26\\\\032.jpg',\n",
       "  'ch26\\\\033.jpg',\n",
       "  'ch26\\\\034.jpg',\n",
       "  'ch26\\\\035.jpg',\n",
       "  'ch26\\\\036.jpg']]"
      ]
     },
     "execution_count": 51,
     "metadata": {},
     "output_type": "execute_result"
    }
   ],
   "source": [
    "# load_all_images('ch26')\n",
    "bookmarked_images = ['004.jpg', '024.jpg']\n",
    "convert_to_relative_filepaths('ch26', bookmarked_images)\n",
    "chapters = split_chapters('ch26', bookmarked_images)\n",
    "chapters"
   ]
  },
  {
   "cell_type": "code",
   "execution_count": 59,
   "metadata": {},
   "outputs": [],
   "source": [
    "def create_new_folder(image_folder, new_folder_name):\n",
    "    # Create a path for the new folder\n",
    "    new_folder_path = os.path.join(os.getcwd(), image_folder, new_folder_name) \n",
    "    os.mkdir(new_folder_path)\n",
    "    print(f\"Folder '{new_folder_name}' created successfully.\")\n",
    "    return new_folder_path"
   ]
  },
  {
   "cell_type": "code",
   "execution_count": 56,
   "metadata": {},
   "outputs": [],
   "source": [
    "def move_files(file_list, dest_folder):\n",
    "    # make sure file_list is a list of relative file paths in the image folder\n",
    "    # make sure dest_folder already exists in image_foldre\n",
    "    # Define the list of filenames to move\n",
    "    # filenames = [\"file1.txt\", \"file2.txt\", \"file3.txt\"]  # Example list of filenames\n",
    "\n",
    "    # Define the destination folder\n",
    "    # dest_folder = \"f1\"\n",
    "\n",
    "    # Move each file to the destination folder\n",
    "    for filename in file_list:\n",
    "        # Check if the file exists\n",
    "        if os.path.exists(filename):\n",
    "            # Move the file to the destination folder\n",
    "            shutil.move(filename, dest_folder)\n",
    "            print(f\"Moved '{filename}' to '{dest_folder}'\")\n",
    "        else:\n",
    "            print(f\"File '{filename}' does not exist.\")"
   ]
  },
  {
   "cell_type": "code",
   "execution_count": 57,
   "metadata": {},
   "outputs": [
    {
     "data": {
      "text/plain": [
       "['ch26\\\\003.jpg', 'ch26\\\\004.jpg']"
      ]
     },
     "execution_count": 57,
     "metadata": {},
     "output_type": "execute_result"
    }
   ],
   "source": [
    "def convert_to_relative_filepaths(image_folder, file_list):\n",
    "    for i in range(len(file_list)):\n",
    "        item = file_list[i]\n",
    "        if os.path.basename(item) == item:\n",
    "            relative_filepath = os.path.join(image_folder, item)\n",
    "            file_list[i] = relative_filepath\n",
    "    return file_list\n",
    "im = ['003.jpg', '004.jpg']\n",
    "convert_to_relative_filepaths('ch26', im)"
   ]
  },
  {
   "cell_type": "code",
   "execution_count": null,
   "metadata": {},
   "outputs": [],
   "source": [
    "image_folder = 'ch26'\n",
    "#make bookmarked_images relative paths to images\n",
    "bookmarked_images = ['004.jpg', '024.jpg']\n",
    "# bookmarked_images = [os.path.join(image_folder, filename) for filename in bookmarked_images]\n",
    "convert_to_relative_filepaths(image_folder, bookmarked_images)\n",
    "\n",
    "# chapters = "
   ]
  },
  {
   "cell_type": "code",
   "execution_count": 60,
   "metadata": {},
   "outputs": [
    {
     "name": "stdout",
     "output_type": "stream",
     "text": [
      "Folder 'ch26-story-0' created successfully.\n",
      "Moved 'ch26\\001.jpg' to 'c:\\Users\\Glaucos\\bookmark-image-files\\ch26\\ch26-story-0'\n",
      "Moved 'ch26\\002.jpg' to 'c:\\Users\\Glaucos\\bookmark-image-files\\ch26\\ch26-story-0'\n",
      "Moved 'ch26\\003.jpg' to 'c:\\Users\\Glaucos\\bookmark-image-files\\ch26\\ch26-story-0'\n",
      "Folder 'ch26-story-1' created successfully.\n",
      "Moved 'ch26\\004.jpg' to 'c:\\Users\\Glaucos\\bookmark-image-files\\ch26\\ch26-story-1'\n",
      "Moved 'ch26\\005.jpg' to 'c:\\Users\\Glaucos\\bookmark-image-files\\ch26\\ch26-story-1'\n",
      "Moved 'ch26\\006.jpg' to 'c:\\Users\\Glaucos\\bookmark-image-files\\ch26\\ch26-story-1'\n",
      "Moved 'ch26\\007.jpg' to 'c:\\Users\\Glaucos\\bookmark-image-files\\ch26\\ch26-story-1'\n",
      "Moved 'ch26\\008.jpg' to 'c:\\Users\\Glaucos\\bookmark-image-files\\ch26\\ch26-story-1'\n",
      "Moved 'ch26\\009.jpg' to 'c:\\Users\\Glaucos\\bookmark-image-files\\ch26\\ch26-story-1'\n",
      "Moved 'ch26\\010.jpg' to 'c:\\Users\\Glaucos\\bookmark-image-files\\ch26\\ch26-story-1'\n",
      "Moved 'ch26\\011.jpg' to 'c:\\Users\\Glaucos\\bookmark-image-files\\ch26\\ch26-story-1'\n",
      "Moved 'ch26\\012.jpg' to 'c:\\Users\\Glaucos\\bookmark-image-files\\ch26\\ch26-story-1'\n",
      "Moved 'ch26\\013.jpg' to 'c:\\Users\\Glaucos\\bookmark-image-files\\ch26\\ch26-story-1'\n",
      "Moved 'ch26\\014.jpg' to 'c:\\Users\\Glaucos\\bookmark-image-files\\ch26\\ch26-story-1'\n",
      "Moved 'ch26\\015.jpg' to 'c:\\Users\\Glaucos\\bookmark-image-files\\ch26\\ch26-story-1'\n",
      "Moved 'ch26\\016.jpg' to 'c:\\Users\\Glaucos\\bookmark-image-files\\ch26\\ch26-story-1'\n",
      "Moved 'ch26\\017.jpg' to 'c:\\Users\\Glaucos\\bookmark-image-files\\ch26\\ch26-story-1'\n",
      "Moved 'ch26\\018.jpg' to 'c:\\Users\\Glaucos\\bookmark-image-files\\ch26\\ch26-story-1'\n",
      "Moved 'ch26\\019.jpg' to 'c:\\Users\\Glaucos\\bookmark-image-files\\ch26\\ch26-story-1'\n",
      "Moved 'ch26\\020.jpg' to 'c:\\Users\\Glaucos\\bookmark-image-files\\ch26\\ch26-story-1'\n",
      "Moved 'ch26\\021.jpg' to 'c:\\Users\\Glaucos\\bookmark-image-files\\ch26\\ch26-story-1'\n",
      "Moved 'ch26\\022.jpg' to 'c:\\Users\\Glaucos\\bookmark-image-files\\ch26\\ch26-story-1'\n",
      "Moved 'ch26\\023.jpg' to 'c:\\Users\\Glaucos\\bookmark-image-files\\ch26\\ch26-story-1'\n",
      "Folder 'ch26-story-2' created successfully.\n",
      "Moved 'ch26\\024.jpg' to 'c:\\Users\\Glaucos\\bookmark-image-files\\ch26\\ch26-story-2'\n",
      "Moved 'ch26\\025.jpg' to 'c:\\Users\\Glaucos\\bookmark-image-files\\ch26\\ch26-story-2'\n",
      "Moved 'ch26\\026.jpg' to 'c:\\Users\\Glaucos\\bookmark-image-files\\ch26\\ch26-story-2'\n",
      "Moved 'ch26\\027.jpg' to 'c:\\Users\\Glaucos\\bookmark-image-files\\ch26\\ch26-story-2'\n",
      "Moved 'ch26\\028.jpg' to 'c:\\Users\\Glaucos\\bookmark-image-files\\ch26\\ch26-story-2'\n",
      "Moved 'ch26\\029.jpg' to 'c:\\Users\\Glaucos\\bookmark-image-files\\ch26\\ch26-story-2'\n",
      "Moved 'ch26\\030.jpg' to 'c:\\Users\\Glaucos\\bookmark-image-files\\ch26\\ch26-story-2'\n",
      "Moved 'ch26\\031.jpg' to 'c:\\Users\\Glaucos\\bookmark-image-files\\ch26\\ch26-story-2'\n",
      "Moved 'ch26\\032.jpg' to 'c:\\Users\\Glaucos\\bookmark-image-files\\ch26\\ch26-story-2'\n",
      "Moved 'ch26\\033.jpg' to 'c:\\Users\\Glaucos\\bookmark-image-files\\ch26\\ch26-story-2'\n",
      "Moved 'ch26\\034.jpg' to 'c:\\Users\\Glaucos\\bookmark-image-files\\ch26\\ch26-story-2'\n",
      "Moved 'ch26\\035.jpg' to 'c:\\Users\\Glaucos\\bookmark-image-files\\ch26\\ch26-story-2'\n",
      "Moved 'ch26\\036.jpg' to 'c:\\Users\\Glaucos\\bookmark-image-files\\ch26\\ch26-story-2'\n"
     ]
    }
   ],
   "source": [
    "image_folder = 'ch26'\n",
    "#make bookmarked_images relative paths to images\n",
    "# bookmarked_images = ['004.jpg', '024.jpg']\n",
    "# bookmarked_images = [os.path.join(image_folder, filename) for filename in bookmarked_images]\n",
    "# convert_to_relative_filepaths(image_folder, bookmarked_images)\n",
    "\n",
    "chapter_index = 0\n",
    "for chapter in chapters:\n",
    "    #create a folder starting from 0\n",
    "    chapter_folder = f\"{image_folder}-story-{chapter_index}\"\n",
    "    chapter_index += 1\n",
    "    #create a new folder\n",
    "    new_folder_path = create_new_folder(image_folder, chapter_folder)    \n",
    "    #move files into folder\n",
    "    move_files(chapter, new_folder_path)"
   ]
  }
 ],
 "metadata": {
  "kernelspec": {
   "display_name": "env1",
   "language": "python",
   "name": "python3"
  },
  "language_info": {
   "codemirror_mode": {
    "name": "ipython",
    "version": 3
   },
   "file_extension": ".py",
   "mimetype": "text/x-python",
   "name": "python",
   "nbconvert_exporter": "python",
   "pygments_lexer": "ipython3",
   "version": "3.12.0"
  }
 },
 "nbformat": 4,
 "nbformat_minor": 2
}
